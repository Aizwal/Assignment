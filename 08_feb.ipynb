{
 "cells": [
  {
   "cell_type": "markdown",
   "id": "b15b5c1c-cefb-491c-87cd-3df5bf56d1b9",
   "metadata": {},
   "source": [
    "Q1. What is Abstraction in OOps? Explain with an example.\n",
    "Abstraction is to provide function without revealing the implementation detail.\n",
    "It is one of the 4 pillers of Object Oriented Programming concept.\n",
    "It helps in reducing programming complexity and efforts.\n",
    "Real life example:\n",
    "Switching a fan on/off : Pressing a fan switch to on/off position provides the operation turn on/off the fan.\n",
    "Here we know and use the function of the switch but we don't know how this function has been implemented or its internal working mechnism.\n",
    "So, we can say the switch is providing the required abstraction.\n"
   ]
  },
  {
   "cell_type": "raw",
   "id": "b9dde6c5-5903-4d10-b392-2ee9f961f5b7",
   "metadata": {},
   "source": [
    "Q2. Differentiate between Abstraction and Encapsulation. Explain with an example.\n",
    "Abstraction:\n",
    "OOPs concept that provides function without revealing the implemenation detail.\n",
    "It is implemented to reduce code complexity.\n",
    "Abstract classes and interfaces are used to achieve abstraction.\n",
    "It solves the problem at design level.\n",
    "Example:\n",
    "Car's steering wheel : We use the funcion of a steering wheel in a car (i.e it steers the car in the direction we rotate the steering wheel) but we don't know the implemention detail.\n",
    "Encapsulation:\n",
    "OOPs concept that binds code and data in a single unit.\n",
    "It is implemented for data protection.\n",
    "Access specifiers are used to achive encapsulation.\n",
    "It solves the problem at implementation level.\n",
    "Example:\n",
    "A Facebook profile: Anyone can see my password and log in to my Facebook account.\n",
    "So, Facebook declares the password as private to make our account safe so that anyone can not log in to my account. So the other details of your account or post we share can be made public.\n",
    "So we can see the data hiding concept here.\n"
   ]
  },
  {
   "cell_type": "raw",
   "id": "fa8aeac2-e549-4830-ae96-2b10af8ec14b",
   "metadata": {},
   "source": [
    "Q3. What is abc module in python? Why is it used?\n",
    "ABC is a module in python library that offers the necessary tools for defining an abstract base class.\n",
    "The abc module defines ABCMeta class.\n",
    "It i used to mark methods of the base class as abstract.\n",
    "It is done by @absttractmethod decorator.\n"
   ]
  },
  {
   "cell_type": "markdown",
   "id": "3bf76f3a-ffc9-44c3-865b-15b44dc7a92d",
   "metadata": {},
   "source": [
    "Q4. How can we achieve data abstraction?\n",
    "Abstract classes and interfaces are used to achieve abstraction.\n"
   ]
  },
  {
   "cell_type": "raw",
   "id": "eceba3de-3bbf-49da-b77c-6696d22e5e93",
   "metadata": {},
   "source": [
    "Q5. Can we create an instance of an abstract class? Explain your answer.\n",
    "No, we cannot create an instance of an abstract class.\n",
    "Abstract class can't be initiated because it does not have any implementation part. It contains only the decalaration of the class.\n",
    "To initialize an abstract class we have to first make a sub-class of that abstract class, and overriding the abstract methods and initiate the subclass and call the desired method."
   ]
  }
 ],
 "metadata": {
  "kernelspec": {
   "display_name": "Python 3 (ipykernel)",
   "language": "python",
   "name": "python3"
  },
  "language_info": {
   "codemirror_mode": {
    "name": "ipython",
    "version": 3
   },
   "file_extension": ".py",
   "mimetype": "text/x-python",
   "name": "python",
   "nbconvert_exporter": "python",
   "pygments_lexer": "ipython3",
   "version": "3.10.8"
  }
 },
 "nbformat": 4,
 "nbformat_minor": 5
}
