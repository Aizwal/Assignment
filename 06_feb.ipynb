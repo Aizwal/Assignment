{
 "cells": [
  {
   "cell_type": "code",
   "execution_count": 5,
   "id": "6e84394e-02dd-49a5-b77b-929fdf007695",
   "metadata": {},
   "outputs": [
    {
     "name": "stdout",
     "output_type": "stream",
     "text": [
      "[1, 2, 3, 4, 44, 55, 66, 34, 56, 78, 89, 34, 1, 2, 3, 1, 4, 34, 55, 67, 78, 89, 45, 22, 61, 34, 56]\n",
      "4134711838987085478833841242112000\n"
     ]
    }
   ],
   "source": [
    "# Q1. Create a function which will take a list as an argument and return the product of all the numbers after creating a flat list.\n",
    "# Use the below-given list as an argument for your function.\n",
    "# list = [1,2,3,4, [44,55,66, True], False, (34,56,78,89,34), (1,2,3,3,2,1), (1:34, \"key2\": [55, 67, 78, 89], 4: (45, 22, 61, 34)], [56, 'data science'], 'Machine Learning']\n",
    "# Note: you must extract numeric keys and values of the dictionary also.\n",
    "from functools import reduce\n",
    "\n",
    "li = [\n",
    "    1, 2, 3, 4, [44, 55, 66, True], False, (34, 56, 78, 89, 34),\n",
    "    {1, 2, 3, 3, 2, 1}, {\n",
    "        1: 34,\n",
    "        \"key2\": [55, 67, 78, 89],\n",
    "        4: (45, 22, 61, 34)\n",
    "    }, [56, 'data science'], 'machine learning'\n",
    "]\n",
    "l = []\n",
    "for i in li:\n",
    "    if (isinstance(i, int) and type(i) != bool):\n",
    "        l.append(i)\n",
    "    elif (isinstance(i, list)):\n",
    "        for j in i:\n",
    "            if (isinstance(j, int) and type(j) != bool):\n",
    "                l.append(j)\n",
    "    elif (isinstance(i, tuple)):\n",
    "        for j in i:\n",
    "            if (isinstance(j, int) and type(j) != bool):\n",
    "                l.append(j)\n",
    "    elif (isinstance(i, set)):\n",
    "        for j in i:\n",
    "            if (isinstance(j, int) and type(j) != bool):\n",
    "                l.append(j)\n",
    "    elif (isinstance(i, dict)):\n",
    "        for j in i.keys():\n",
    "            if (isinstance(j, int)):\n",
    "                l.append(j)\n",
    "        for j in i.values():\n",
    "            if (isinstance(j, int)):\n",
    "                l.append(j)\n",
    "            elif (isinstance(j, list)):\n",
    "                for k in j:\n",
    "                    if (isinstance(k, int)):\n",
    "                        l.append(k)\n",
    "            elif (isinstance(j, tuple)):\n",
    "                for k in j:\n",
    "                    if (isinstance(k, int)):\n",
    "                        l.append(k)\n",
    "\n",
    "p = reduce((lambda x, y: x * y), l)\n",
    "print(l)\n",
    "# [1, 2, 3, 4, 44, 55, 66, 34, 56, 78, 89, 34, 1, 2, 3, 1, 4, 34, 55, 67, 78, 89, 45, 22, 61, 34, 56]\n",
    "\n",
    "print(p)\n",
    "# 4134711838987085478833841242112000\n"
   ]
  },
  {
   "cell_type": "code",
   "execution_count": 3,
   "id": "6f320a7b-83d5-4e2c-bf19-7a9ca84e1190",
   "metadata": {},
   "outputs": [
    {
     "name": "stdout",
     "output_type": "stream",
     "text": [
      "r$dzmg$gl$yvxlnv$z$wzgz$hxrvmgrhg"
     ]
    }
   ],
   "source": [
    "\n",
    "# Q2. Write a python program for encrypting a message sent to you by your friend. The logic of encryption should be such that, for 'a' the output should be 'z'. For 'b', the output should be 'y'. For 'c', the output should be 'x' respectively. Also, the whitespace should be replaced with a dollar sign. Keep the punctuation marks unchanged.\n",
    "# Input Sentence: I want to become a Data Scientist.\n",
    "# Encrypt the above input sentence using the program you just created.\n",
    "# Note: Convert the given input sentence into lowercase before encrypting. The final output should be lowercase.\n",
    "a = \"I want to become a Data Scientist\"\n",
    "a = a.lower()\n",
    "for i in range(len(a)):\n",
    "    ch = chr(219-ord(a[i]))\n",
    "    if (ch == chr(187)):\n",
    "        print(\"$\", end=\"\")\n",
    "    else:\n",
    "        print(ch, end='')"
   ]
  },
  {
   "cell_type": "code",
   "execution_count": null,
   "id": "eb3525fb-4f7d-425c-bf00-15b3b80bb5b0",
   "metadata": {},
   "outputs": [],
   "source": []
  }
 ],
 "metadata": {
  "kernelspec": {
   "display_name": "Python 3 (ipykernel)",
   "language": "python",
   "name": "python3"
  },
  "language_info": {
   "codemirror_mode": {
    "name": "ipython",
    "version": 3
   },
   "file_extension": ".py",
   "mimetype": "text/x-python",
   "name": "python",
   "nbconvert_exporter": "python",
   "pygments_lexer": "ipython3",
   "version": "3.10.8"
  }
 },
 "nbformat": 4,
 "nbformat_minor": 5
}
