{
 "cells": [
  {
   "cell_type": "markdown",
   "id": "fb344654-a9ef-4226-b874-2b5a7bd0710f",
   "metadata": {},
   "source": [
    "Q1, Create a vehicle class with an init method having instance variables as name_of_vehicle, max_speed\n",
    "and average_of_vehicle."
   ]
  },
  {
   "cell_type": "code",
   "execution_count": 7,
   "id": "562317d8-d600-4103-8d94-63441edc1ce1",
   "metadata": {},
   "outputs": [],
   "source": [
    "class vehicle:\n",
    "    def __init__(self, name_of_vehicle,max_speed,average_of_vehicle):\n",
    "        self.name_of_vehicle= name_of_vehicle\n",
    "        self.max_speed=max_speed\n",
    "        self.average_of_vehicle=average_of_vehicle\n",
    "x=vehicle(\"Nexon\",120,15)"
   ]
  },
  {
   "cell_type": "code",
   "execution_count": 8,
   "id": "5044f4b2-45da-44bc-a942-64f246c28a72",
   "metadata": {},
   "outputs": [
    {
     "data": {
      "text/plain": [
       "15"
      ]
     },
     "execution_count": 8,
     "metadata": {},
     "output_type": "execute_result"
    }
   ],
   "source": [
    "x.average_of_vehicle"
   ]
  },
  {
   "cell_type": "code",
   "execution_count": null,
   "id": "343aab3d-67a7-4cee-b9e8-e7246e69c1be",
   "metadata": {},
   "outputs": [],
   "source": []
  },
  {
   "cell_type": "code",
   "execution_count": null,
   "id": "6fabc0ac-9060-48db-808a-290b0285cdab",
   "metadata": {},
   "outputs": [],
   "source": []
  },
  {
   "cell_type": "markdown",
   "id": "8847a9f0-d81b-4864-9b9d-118e5985ed74",
   "metadata": {},
   "source": [
    "Q2. Create a child class car from the vehicle class created in Que 1, which will inherit the vehicle class.\n",
    "Create a method named seating_capacity which takes capacity as an argument and returns the name of\n",
    "the vehicle and its seating capacity."
   ]
  },
  {
   "cell_type": "code",
   "execution_count": 9,
   "id": "c4a30bda-edb9-4e15-a070-0e75e1083944",
   "metadata": {},
   "outputs": [],
   "source": [
    "class vehicle:\n",
    "    def __init__(self, name_of_vehicle,max_speed,average_of_vehicle):\n",
    "        self.name_of_vehicle= name_of_vehicle\n",
    "        self.max_speed=max_speed\n",
    "        self.average_of_vehicle=average_of_vehicle\n",
    "x=vehicle(\"Nexon\",120,15)"
   ]
  },
  {
   "cell_type": "code",
   "execution_count": 11,
   "id": "fd9fcd5e-79c2-40fd-b6d4-4f0b70cb915d",
   "metadata": {},
   "outputs": [
    {
     "name": "stdout",
     "output_type": "stream",
     "text": [
      "Nexon\n",
      "5\n"
     ]
    }
   ],
   "source": [
    "class car(vehicle):\n",
    "    def seating_capacity(self,capacity):\n",
    "        self.capacity=capacity\n",
    "        return f\"{self.name_of_vehicle}\\n\" \\\n",
    "               f\"{self.capacity}\"\n",
    "\n",
    "y=car(\"Nexon\",120,15)\n",
    "print(y.seating_capacity(5))"
   ]
  },
  {
   "cell_type": "code",
   "execution_count": null,
   "id": "06a5b13f-973b-47f8-8ca8-47e0e0898543",
   "metadata": {},
   "outputs": [],
   "source": []
  },
  {
   "cell_type": "code",
   "execution_count": null,
   "id": "8a777517-796f-4522-b9ae-5541fde93554",
   "metadata": {},
   "outputs": [],
   "source": []
  },
  {
   "cell_type": "markdown",
   "id": "5083506d-2096-4d23-a3e7-8fb919d0c5e8",
   "metadata": {},
   "source": [
    "Q3. What is multiple inheritance? Write a python code to demonstrate multiple inheritance."
   ]
  },
  {
   "cell_type": "markdown",
   "id": "094fa450-157d-47e9-9c41-ba31bc2f3dc1",
   "metadata": {},
   "source": [
    "=>When a class is derived from more than one base class it is called multiple Inheritance. The derived class inherits all the features of the base case."
   ]
  },
  {
   "cell_type": "code",
   "execution_count": 25,
   "id": "ad04d655-ad32-428b-b80d-5f388e8b7a31",
   "metadata": {},
   "outputs": [
    {
     "name": "stdout",
     "output_type": "stream",
     "text": [
      "This is class parent 1\n",
      "This is class parent 2\n"
     ]
    }
   ],
   "source": [
    "class Base1:\n",
    "       def m(self):\n",
    "            print(\"This is class parent 1\")\n",
    "\n",
    "class Base2:\n",
    "     def n(self):\n",
    "            print(\"This is class parent 2\")\n",
    "\n",
    "class Derived(Base2, Base1):\n",
    "     def k(self):\n",
    "            print(\"This is class\")\n",
    "obj=Derived()\n",
    "obj.m()\n",
    "obj.n()"
   ]
  },
  {
   "cell_type": "code",
   "execution_count": null,
   "id": "2b493c43-bd44-4d0a-925e-f9ffe5c188e8",
   "metadata": {},
   "outputs": [],
   "source": []
  },
  {
   "cell_type": "code",
   "execution_count": null,
   "id": "bac98053-c1cd-4edc-a7d0-dc532d19733f",
   "metadata": {},
   "outputs": [],
   "source": []
  },
  {
   "cell_type": "code",
   "execution_count": null,
   "id": "735f1f27-715b-40d9-a531-bba2e9b32627",
   "metadata": {},
   "outputs": [],
   "source": []
  },
  {
   "cell_type": "markdown",
   "id": "087be6d0-6030-403e-8006-3b615030ae31",
   "metadata": {},
   "source": [
    "Q4. What are getter and setter in python? Create a class and create a getter and a setter method in this\n",
    "class."
   ]
  },
  {
   "cell_type": "markdown",
   "id": "8a5962d3-dd58-4207-a27a-8259c4436b90",
   "metadata": {},
   "source": [
    "=>\n",
    "In Python, getters and setters are not the same as those in other object-oriented programming languages. Basically, the main purpose of using getters and setters in object-oriented programs is to ensure data encapsulation.Private variables in python are not actually hidden fields like in other object oriented languages. Getters and Setters in python are often used when:\n",
    "We use getters & setters to add validation logic around getting and setting a value.\n",
    "To avoid direct access of a class field i.e. private variables cannot be accessed directly or modified by external user."
   ]
  },
  {
   "cell_type": "code",
   "execution_count": 40,
   "id": "39ff49f4-1e7d-43c2-86cd-e4931880598b",
   "metadata": {},
   "outputs": [
    {
     "data": {
      "text/plain": [
       "21"
      ]
     },
     "execution_count": 40,
     "metadata": {},
     "output_type": "execute_result"
    }
   ],
   "source": [
    "class Geek:\n",
    "    def __init__(self, age = 0):\n",
    "         self._age = age\n",
    "      \n",
    "    # getter method\n",
    "    def get_age(self):\n",
    "        return self._age\n",
    "      \n",
    "    # setter method\n",
    "    def set_age(self, x):\n",
    "        self._age = x\n",
    "  \n",
    "raj = Geek()\n",
    "  \n",
    "# setting the age using setter\n",
    "raj.set_age(21)\n",
    "  \n",
    "# retrieving age using getter\n",
    "raj.get_age()"
   ]
  },
  {
   "cell_type": "code",
   "execution_count": null,
   "id": "cd4b7275-0a5b-482b-9f36-fb227d3feeb2",
   "metadata": {},
   "outputs": [],
   "source": []
  },
  {
   "cell_type": "code",
   "execution_count": null,
   "id": "0915e667-bfc4-4b7c-8e8f-999f7d74d5ed",
   "metadata": {},
   "outputs": [],
   "source": []
  },
  {
   "cell_type": "markdown",
   "id": "5511409e-3ea9-428e-91c3-e38a79d35853",
   "metadata": {},
   "source": [
    "Q5.What is method overriding in python? Write a python code to demonstrate method overriding."
   ]
  },
  {
   "cell_type": "markdown",
   "id": "9e2a3fd7-8b10-4d71-8b36-79de056a0c34",
   "metadata": {},
   "source": [
    "=>Method overriding is an ability of any object-oriented programming language that allows a subclass or child class to provide a specific implementation of a method that is already provided by one of its super-classes or parent classes. When a method in a subclass has the same name, same parameters or signature and same return type(or sub-type) as a method in its super-class, then the method in the subclass is said to override the method in the super-class."
   ]
  },
  {
   "cell_type": "code",
   "execution_count": 32,
   "id": "62e0d131-0647-438c-be00-1356eab7f73c",
   "metadata": {},
   "outputs": [
    {
     "name": "stdout",
     "output_type": "stream",
     "text": [
      "Inside Child\n",
      "Inside Parent2\n"
     ]
    }
   ],
   "source": [
    "class Parent1():\n",
    "          \n",
    "    # Parent's show method\n",
    "    def show(self):\n",
    "        print(\"Inside Parent1\")\n",
    "          \n",
    "# Defining Parent class 2\n",
    "class Parent2():\n",
    "          \n",
    "    # Parent's show method\n",
    "    def show(self):\n",
    "        print(\"Inside Parent2\")\n",
    "          \n",
    "          \n",
    "# Defining child class\n",
    "class Child(Parent1, Parent2):\n",
    "          \n",
    "    # Child's show method\n",
    "    def show(self):\n",
    "        print(\"Inside Child\")\n",
    "     \n",
    "        \n",
    "# Driver's code\n",
    "obj = Child()\n",
    "  \n",
    "obj.show()\n",
    "Parent2.show(obj)"
   ]
  }
 ],
 "metadata": {
  "kernelspec": {
   "display_name": "Python 3 (ipykernel)",
   "language": "python",
   "name": "python3"
  },
  "language_info": {
   "codemirror_mode": {
    "name": "ipython",
    "version": 3
   },
   "file_extension": ".py",
   "mimetype": "text/x-python",
   "name": "python",
   "nbconvert_exporter": "python",
   "pygments_lexer": "ipython3",
   "version": "3.10.8"
  }
 },
 "nbformat": 4,
 "nbformat_minor": 5
}
