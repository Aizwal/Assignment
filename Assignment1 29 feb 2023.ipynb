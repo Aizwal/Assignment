{
 "cells": [
  {
   "cell_type": "markdown",
   "id": "3f795bf2-358c-4ea2-909d-0c16edbf8366",
   "metadata": {},
   "source": [
    " 1].Who developed Python Programming Language? \n",
    " =>It was initially designed by Guido van Rossum in 1991 and developed by Python Software Foundation."
   ]
  },
  {
   "cell_type": "markdown",
   "id": "e280e9de-0eec-455f-9b80-39a0824af2a2",
   "metadata": {},
   "source": [
    "2].Which type of Programming does Python support?\n",
    "=>Python supports both object-oriented and procedural programming, so it is suitable for a wide range of applications. It can be used to develop applications for a wide variety of platforms, including embedded systems."
   ]
  },
  {
   "cell_type": "markdown",
   "id": "8e9af127-afe0-4435-b762-b4731e80508d",
   "metadata": {},
   "source": [
    "3].Is Python case sensitive when dealing with identifiers?\n",
    "=>The Python language is case-sensitive. Identifiers, keywords, and names of classes must be written in lowercase letters."
   ]
  },
  {
   "cell_type": "markdown",
   "id": "89726242-2bfd-4abb-af82-24895af2aaa9",
   "metadata": {},
   "source": [
    "4].What is the correct extension of the Python file? \n",
    "=> filename.py\n",
    "   If we are saving python file in any notebook than extension should be filename.ipynb"
   ]
  },
  {
   "cell_type": "markdown",
   "id": "50c583df-6cf1-414a-b75a-e725328d0eff",
   "metadata": {},
   "source": [
    "5].Is Python code compiled or interpreted? \n",
    "=>Python is a “Compiled Interpreted” language. This means when the Python program is run, First Python checks for program syntax Compiles and converts it to bytecode, and directly bytecode is loaded in system memory. Then compiled bytecode interpreted from memory to execute it."
   ]
  },
  {
   "cell_type": "markdown",
   "id": "4e3d28c9-4e4a-4609-8b43-cc003fc34e64",
   "metadata": {},
   "source": [
    "6].Name a few blocks of code used to define in Python language? \n",
    "=>In below exaple their are two blocks if and else which will execute according to the condition and the nested statements or block can execute depending upon the condition.\n",
    "if (condition):\n",
    "     Statement 1\n",
    "     Statement 2\n",
    "else:\n",
    "     Statement 3\n",
    "     Statement 4\n",
    "    "
   ]
  },
  {
   "cell_type": "markdown",
   "id": "0f9aa57b-bf96-4fac-ac15-7e3813dad6d6",
   "metadata": {},
   "source": [
    "7].State a character used to give single-line comments in Python?\n",
    "=> #"
   ]
  },
  {
   "cell_type": "markdown",
   "id": "001aa970-ba5c-427d-a161-48320913a8c3",
   "metadata": {},
   "source": [
    "8].Mention functions which can help us to find the version of python that we are currently working on? \n",
    "=> sys.version"
   ]
  },
  {
   "cell_type": "markdown",
   "id": "b036a021-22ee-4b7b-94eb-5d531cf08a6c",
   "metadata": {},
   "source": [
    "9].Python supports the creation of anonymous functions at runtime, using a construct called \n",
    "=> lambda"
   ]
  },
  {
   "cell_type": "markdown",
   "id": "f8c74c0d-8ce3-478d-9eb2-cfa5be3681a6",
   "metadata": {},
   "source": [
    "10].What does pip stand for python? \n",
    "=> Python Package Index"
   ]
  },
  {
   "cell_type": "markdown",
   "id": "a2ae9d37-56e2-4d46-b14b-652dece15cc5",
   "metadata": {},
   "source": [
    "11].Mention a few built-in functions in python? \n",
    "=> abs,all,any,ascii,bin,bool,dict"
   ]
  },
  {
   "cell_type": "markdown",
   "id": "0d961417-00a9-4122-a91e-af6804f03023",
   "metadata": {},
   "source": [
    "12].What is the maximum possible length of an identifier in Python? \n",
    "=> In Python, the highest possible length of an identifier is 79 characters."
   ]
  },
  {
   "cell_type": "markdown",
   "id": "929f48d9-c6d8-48ee-8963-aa270d40c41c",
   "metadata": {},
   "source": [
    "13].What are the benefits of using Python? \n",
    "=> Python is eaasily understable language for beginners.\n",
    "   Python has all inbuilt functions which reduces the time to code.\n",
    "   Python has all the types of libraries which supports various model development.\n",
    "   Versatility. Every programmer looks forward to using an advanced programming language to reduce the number of tasks involved. Python is the best      option for programmers because of its versatile features.\n",
    "   Open Source. Not every technology is free in the world. Some of them demand a considerable amount of payment to use regularly. The programming        language is open source and available to use for free of cost."
   ]
  },
  {
   "cell_type": "markdown",
   "id": "47c42fb9-ff6e-4cd2-a51c-70328936511f",
   "metadata": {},
   "source": [
    "14].How is memory managed in Python? \n",
    "=> The procedure of providing memory to objects is called allocation.\n",
    "   Memory allocation is an essential part of the memory management for a developer. This process basically allots free space in the computer's virtual    memory, and there are two types of virtual memory works while executing programs.\n",
    "   1)Static Memory Allocation= Static memory allocation happens at the compile time.\n",
    "   2)Dynamic Memory Allocation=  Dynamic memory allocates the memory at the runtime to the program."
   ]
  },
  {
   "cell_type": "markdown",
   "id": "2373c373-86c1-4c39-aae5-565d025c002b",
   "metadata": {},
   "source": [
    "15].How to install Python on Windows and set path variables?\n",
    "=> \n",
    "To install python on windows search for python download on google then various versin of python will be showing,download tje latest one 32bit or either 64 bit according to your PC.Then after downloading click on install then next then finish and at last ok.\n",
    "To add Python to your Windows PATH, you need to get its installation path. To do that, open up the Windows search bar and type python.exe (don't hit the Enter key). Then right-click on Python.exe that pops up in the resulting menu and select the Open file location option.\n",
    "In the Explorer windows that opens, click on the long directory bar to the left of the search bar. Highlight and copy the entire path text to your clipboard with Ctrl + c. Then continue with the next steps below.\n",
    "To add Python to the PATH in User variables, right-click on This PC, and select Properties. Once in the properties menu, click on the Advanced system settings option. In the next window, select the Advanced tab, and select Environment Variables.\n",
    "Getting to the Environment Variables\n",
    "The Environment Variables menu has two distinct parts: an upper part called User variables, and a lower part named System variables. However, our focus is on the User variables in this case.\n",
    "Within the User variables menu, locate a variable called Path. Then paste the path you copied earlier in the Variable value option using Ctrl + v and click Ok.\n",
    "However, if you can't find that variable, you might need to create it. To do that, click on New. Next, in the Variable name form, type Path, and paste your Python path in the Variable value field.\n",
    "Creating a new path in Users variables\n",
    "Go back to your Python installation path folder and double-click on Scripts to open that directory. Next, copy its path from the path bar at the upper part of the windows (besides the search bar), just like you did earlier for the Python installation path.\n",
    "Once you've copied the Scripts path, head back to the Environment Variables. Next, select the Path variable and click on Edit. Type a semi-colon after your Python executable path and paste the Scripts path you just copied after it. Then click Ok."
   ]
  },
  {
   "cell_type": "markdown",
   "id": "64701f63-0d7c-4d6f-abe0-d0fa30199d25",
   "metadata": {},
   "source": [
    "16].Is indentation required in python?\n",
    "=> Yes identation is required in python."
   ]
  }
 ],
 "metadata": {
  "kernelspec": {
   "display_name": "Python 3 (ipykernel)",
   "language": "python",
   "name": "python3"
  },
  "language_info": {
   "codemirror_mode": {
    "name": "ipython",
    "version": 3
   },
   "file_extension": ".py",
   "mimetype": "text/x-python",
   "name": "python",
   "nbconvert_exporter": "python",
   "pygments_lexer": "ipython3",
   "version": "3.10.8"
  }
 },
 "nbformat": 4,
 "nbformat_minor": 5
}
