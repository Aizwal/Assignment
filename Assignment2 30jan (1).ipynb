{
 "cells": [
  {
   "cell_type": "markdown",
   "id": "35c98b44-0fc2-4294-9792-79dccc954fb0",
   "metadata": {},
   "source": [
    "1]. Write a program to accept percentage from the user and display the grade according to the following "
   ]
  },
  {
   "cell_type": "code",
   "execution_count": 3,
   "id": "9c040e08-329d-4837-9a33-21e51be09b02",
   "metadata": {},
   "outputs": [
    {
     "name": "stdin",
     "output_type": "stream",
     "text": [
      "Enter your percentage 34\n"
     ]
    },
    {
     "name": "stdout",
     "output_type": "stream",
     "text": [
      "D\n"
     ]
    }
   ],
   "source": [
    "per=int(input(\"Enter your percentage\"))\n",
    "if per>90:\n",
    "    print(\"A\")\n",
    "elif per>80 and per<=90:\n",
    "    print(\"B\")\n",
    "elif per>=60 and per<=80:\n",
    "    print(\"C\")\n",
    "else:\n",
    "    print(\"D\")"
   ]
  },
  {
   "cell_type": "markdown",
   "id": "07fe5c8f-6e92-460f-a592-2a6e8eb4beb2",
   "metadata": {},
   "source": [
    "2]. Write a program to accept the cost price of a bike and display the road tax to be paid according to the \n",
    "following criteria:"
   ]
  },
  {
   "cell_type": "code",
   "execution_count": 5,
   "id": "02b6acd2-04f8-4aed-80c7-6e1dc21a1055",
   "metadata": {},
   "outputs": [
    {
     "name": "stdin",
     "output_type": "stream",
     "text": [
      "Enter price 50000\n"
     ]
    },
    {
     "name": "stdout",
     "output_type": "stream",
     "text": [
      "5%\n"
     ]
    }
   ],
   "source": [
    "price=int(input(\"Enter price\"))\n",
    "if price>100000 :\n",
    "    print(\"15%\")\n",
    "elif price>50000 and price<= 100000:\n",
    "    print(\"10%\")\n",
    "else :\n",
    "    print(\"5%\")"
   ]
  },
  {
   "cell_type": "markdown",
   "id": "41048988-0e43-44f9-8d22-22ce63226bb9",
   "metadata": {},
   "source": [
    "3]. Accept any city from the user and display monuments of that city. "
   ]
  },
  {
   "cell_type": "code",
   "execution_count": 13,
   "id": "6506f4dd-b2d6-4fb5-b1fd-23c73ebcef26",
   "metadata": {},
   "outputs": [
    {
     "name": "stdin",
     "output_type": "stream",
     "text": [
      "ENTER A CITY NAME Jaipur\n"
     ]
    },
    {
     "name": "stdout",
     "output_type": "stream",
     "text": [
      "Jal Mahal \n"
     ]
    }
   ],
   "source": [
    "city=input(\"ENTER A CITY NAME\")\n",
    "if city=='Delhi':\n",
    "    print(\"Red Fort \")\n",
    "elif city=='Agra':\n",
    "    print(\"Agra \")\n",
    "elif city=='Jaipur':\n",
    "    print(\"Jal Mahal \")\n",
    "else:\n",
    "    print(\"ENTER CORRECT CITY NAME\")"
   ]
  },
  {
   "cell_type": "markdown",
   "id": "1bded46b-0167-4f87-8c90-5c7b586e70ba",
   "metadata": {},
   "source": [
    "4]. Check how many times a given number can be divided by 3 before it is less than or equal to 10. "
   ]
  },
  {
   "cell_type": "code",
   "execution_count": 16,
   "id": "1fa6b8ee-a73c-41d7-a01d-86188324d7fa",
   "metadata": {},
   "outputs": [
    {
     "name": "stdout",
     "output_type": "stream",
     "text": [
      "2\n"
     ]
    }
   ],
   "source": [
    "count = 0\n",
    "number = 90\n",
    "while number > 10:\n",
    "    number = number / 3\n",
    "    count = count + 1\n",
    "print(count)"
   ]
  },
  {
   "cell_type": "markdown",
   "id": "97cfcbd4-ad2b-4155-8e6b-6ac4fe6278c5",
   "metadata": {},
   "source": [
    "5]. Why and When to Use while Loop in Python give a detailed description with example.\n",
    "=> Python while loop is used to run a specific code until a certain condition is met. If the condition evaluates to True, the code inside the while loop is executed. condition is evaluated again.\n",
    "In simple words, The while loop enables the Python program to repeat a set of operations while a particular condition is true. When the condition becomes false, execution comes out of the loop immediately, and the first statement after the while loop is executed.\n",
    "A while loop is a part of a control flow statement which helps you to understand the basics of Python.\n",
    "We use a while loop when the number of iteration is not known beforehand. For example, if you want to ask a user to guess your luck number between 1 and 10, we don’t know how many attempts the user may need to guess the correct number. In such cases, use a while loop."
   ]
  },
  {
   "cell_type": "markdown",
   "id": "9b6356b5-7890-4f02-9fbe-c889d260c8d2",
   "metadata": {},
   "source": [
    "6]. Use nested while loop to print 3 different pattern"
   ]
  },
  {
   "cell_type": "code",
   "execution_count": 28,
   "id": "e3776c35-8c02-4a95-b3f1-01cdee66b4f8",
   "metadata": {},
   "outputs": [
    {
     "name": "stdout",
     "output_type": "stream",
     "text": [
      "##\n",
      "# #\n",
      "#  #\n",
      "#   #\n",
      "#    #\n",
      "#     #\n",
      "#      #\n"
     ]
    }
   ],
   "source": [
    "num_spaces_wanted = 0\n",
    "while num_spaces_wanted < 7:\n",
    "    print('#', end='')\n",
    "    num_spaces_printed = 0\n",
    "    while num_spaces_printed < num_spaces_wanted:\n",
    "        print(' ', end='')\n",
    "        \n",
    "        num_spaces_printed += 1\n",
    "    print('#')\n",
    "    num_spaces_wanted += 1"
   ]
  },
  {
   "cell_type": "code",
   "execution_count": 29,
   "id": "68a11432-d5d8-40f2-b149-6b9f7197e570",
   "metadata": {},
   "outputs": [
    {
     "name": "stdin",
     "output_type": "stream",
     "text": [
      "Enter number of rows :  5\n"
     ]
    },
    {
     "name": "stdout",
     "output_type": "stream",
     "text": [
      "* \n",
      "* * \n",
      "* * * \n",
      "* * * * \n",
      "* * * * * \n"
     ]
    }
   ],
   "source": [
    "n = int(input('Enter number of rows : '))\n",
    " \n",
    "i = 1\n",
    "while i <= n :\n",
    "    j = 1\n",
    "    while j <= i:\n",
    "        print(\"*\", end = \" \")\n",
    "        j += 1\n",
    "    print()\n",
    "    i += 1"
   ]
  },
  {
   "cell_type": "code",
   "execution_count": 30,
   "id": "74ae0c58-9a47-4068-bdd8-ebeb0f8283a5",
   "metadata": {},
   "outputs": [
    {
     "name": "stdin",
     "output_type": "stream",
     "text": [
      "Enter number of rows :  5\n"
     ]
    },
    {
     "name": "stdout",
     "output_type": "stream",
     "text": [
      "* * * * * \n",
      "* * * * \n",
      "* * * \n",
      "* * \n",
      "* \n"
     ]
    }
   ],
   "source": [
    "n = int(input('Enter number of rows : '))\n",
    " \n",
    "i = 1\n",
    "while i <= n :\n",
    "    j = n\n",
    "    while j >= i:\n",
    "        print(\"*\", end = \" \")\n",
    "        j -= 1\n",
    "    print()\n",
    "    i += 1"
   ]
  },
  {
   "cell_type": "markdown",
   "id": "66ff2421-7fa7-4d33-9aff-a845b9b95c42",
   "metadata": {},
   "source": [
    "7]. While loop to display numbers from 10 to 1. "
   ]
  },
  {
   "cell_type": "code",
   "execution_count": null,
   "id": "33056d7a-5e44-4699-8492-3dbe7bbebdd5",
   "metadata": {},
   "outputs": [],
   "source": [
    "i=1\n",
    "while(i<=10):\n",
    "    print(i)\n",
    "    i+=1"
   ]
  },
  {
   "cell_type": "markdown",
   "id": "60e8d4b8-4985-421b-b14c-ac46e0466bad",
   "metadata": {},
   "source": [
    "8]. Reverse a while loop to display numbers from 10 to 1."
   ]
  },
  {
   "cell_type": "code",
   "execution_count": null,
   "id": "d22df00e-624f-4017-8246-77a87baa4691",
   "metadata": {},
   "outputs": [],
   "source": [
    "i=10\n",
    "while(i<=1):\n",
    "    print(i)\n",
    "    i-=1"
   ]
  },
  {
   "cell_type": "code",
   "execution_count": null,
   "id": "fb5ad7c0-b531-485a-8d5d-0b8e0968551d",
   "metadata": {},
   "outputs": [],
   "source": []
  }
 ],
 "metadata": {
  "kernelspec": {
   "display_name": "Python 3 (ipykernel)",
   "language": "python",
   "name": "python3"
  },
  "language_info": {
   "codemirror_mode": {
    "name": "ipython",
    "version": 3
   },
   "file_extension": ".py",
   "mimetype": "text/x-python",
   "name": "python",
   "nbconvert_exporter": "python",
   "pygments_lexer": "ipython3",
   "version": "3.10.8"
  }
 },
 "nbformat": 4,
 "nbformat_minor": 5
}
