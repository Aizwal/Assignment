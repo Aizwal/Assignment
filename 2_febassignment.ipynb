{
 "cells": [
  {
   "cell_type": "markdown",
   "id": "79788057-d3d3-4fdd-98e3-2806c6a19c28",
   "metadata": {},
   "source": [
    "Q1. Explain with an example each when to use a for loop and a while loop.\n",
    "=>\n",
    "For Loop - We use for loop when no of iterations are not known.\n",
    "           When condition for breaking the loop is not specified."
   ]
  },
  {
   "cell_type": "code",
   "execution_count": 1,
   "id": "484368ae-5595-46f8-8e65-9eb44b25a325",
   "metadata": {},
   "outputs": [
    {
     "name": "stdout",
     "output_type": "stream",
     "text": [
      "1\n",
      "2\n",
      "3\n",
      "4\n",
      "5\n"
     ]
    }
   ],
   "source": [
    "for i in range(1, 6):  # Here no of iterations are already specified\n",
    "    print(i)"
   ]
  },
  {
   "cell_type": "code",
   "execution_count": 2,
   "id": "4e8ced30-eb3a-4c76-aa69-c8612a7d6705",
   "metadata": {},
   "outputs": [
    {
     "name": "stdout",
     "output_type": "stream",
     "text": [
      "5\n",
      "6\n",
      "7\n",
      "8\n",
      "9\n",
      "10\n"
     ]
    }
   ],
   "source": [
    "# While Loop - We use while loop when the no of iterations are known.\n",
    "#            - When loop has to be breaked if a condition is fulfilled.\n",
    "\n",
    "# Printing 5 to 10\n",
    "i = 5\n",
    "while (i < 11):  # Here i is less than 11 is a condition\n",
    "    print(i)\n",
    "    i += 1"
   ]
  },
  {
   "cell_type": "code",
   "execution_count": 3,
   "id": "287dfa38-94dc-416e-9327-4e4b5d531399",
   "metadata": {},
   "outputs": [
    {
     "name": "stdout",
     "output_type": "stream",
     "text": [
      "The sum of first 10 natural number is  55\n",
      "The product of first 10 natural number is  3628800\n"
     ]
    }
   ],
   "source": [
    "#Q2. Write a python program to print the sum and product of the first 10 natural numbers using for and while loop.\n",
    "sum = 0\n",
    "prod = 1\n",
    "for i in range(1, 11):\n",
    "    sum += i\n",
    "    prod *= i\n",
    "print(\"The sum of first 10 natural number is \", sum)\n",
    "print(\"The product of first 10 natural number is \", prod)"
   ]
  },
  {
   "cell_type": "markdown",
   "id": "96d2e0e9-79e3-4a97-8a1b-3fcdfa9b5b55",
   "metadata": {},
   "source": [
    "\n",
    "\n",
    "\n",
    "Q3. Create a python program to compute the electricity bill for a household.\n",
    "The per-unit charges in rupees are as follows: For the first 100 units, the user will be charged Rs. 4.5 per unit, for the next 100 units, the user will be charged Rs. 6 per unit, and for the next 100 units, the user will be charged Rs. 10 per unit, After 300 units and above the user will be charged Rs. 20 per unit.\n",
    "You are required to take the units of electricity consumed in a month from the user as input.\n",
    "Your program must pass this test case: when the unit of electricity consumed by the user in a month is 310, the total electricity bill should be 2250."
   ]
  },
  {
   "cell_type": "code",
   "execution_count": 8,
   "id": "dc64faab-a63c-4279-bc11-0356f62ccafd",
   "metadata": {},
   "outputs": [
    {
     "name": "stdin",
     "output_type": "stream",
     "text": [
      "Enter the no of units of electricity used 310\n"
     ]
    },
    {
     "name": "stdout",
     "output_type": "stream",
     "text": [
      "The bill is Rs 2250\n"
     ]
    }
   ],
   "source": [
    "units = int(input(\"Enter the no of units of electricity used\"))\n",
    "bill=0\n",
    "if (units <= 100):\n",
    "    bill += units*4.5\n",
    "elif (units > 100 and units <= 200):\n",
    "    bill += 450+(units-100)*6\n",
    "elif (units > 200 and units <= 300):\n",
    "    bill += 450 + 600+(units-200)*10\n",
    "else :\n",
    "    bill += 450 + 600 + 1000+(units-300)*20\n",
    "print(f\"The bill is Rs {bill}\")"
   ]
  },
  {
   "cell_type": "raw",
   "id": "279af657-0868-4a3a-833d-7d27f98662c1",
   "metadata": {},
   "source": [
    "\n",
    "\n",
    "Q4. Create a list of numbers from 1 to 100. Use for loop and while loop to calculate cube of each number and if the cube of that number is divisible by 4 or 5 then append that number in a list and print that list."
   ]
  },
  {
   "cell_type": "code",
   "execution_count": null,
   "id": "ed24651e-6dc5-4ae8-abcf-20793366248b",
   "metadata": {},
   "outputs": [],
   "source": [
    "#using for loop\n",
    "l=[]\n",
    "for i in list(range(1,101)):\n",
    "    a=i**3\n",
    "    if(a%4==0 or a%5==0):\n",
    "        l.append(i)\n",
    "print(l)"
   ]
  },
  {
   "cell_type": "code",
   "execution_count": null,
   "id": "a57bcc8e-88d1-4240-9d67-293aa6ff620c",
   "metadata": {},
   "outputs": [],
   "source": [
    "#using while loop\n",
    "l1=[]\n",
    "num=1\n",
    "while(num<=100):\n",
    "    b=num**3\n",
    "    if(b%4==0 or b%5==0):\n",
    "        l1.append()\n",
    "        num +=1\n",
    "print(l1)"
   ]
  },
  {
   "cell_type": "code",
   "execution_count": null,
   "id": "d2a2641c-ecf7-44d1-a58b-aaabf3f987cd",
   "metadata": {},
   "outputs": [],
   "source": [
    "\n",
    "\n",
    "#Q5. Write a program to filter count vowels in the below-given string. string = \"I want to become a data scientist\"\n",
    "s = \"I want to become a data scientist\"\n",
    "count = 0\n",
    "v = []\n",
    "\n",
    "for i in s:\n",
    "    if (i == 'a' or i == 'e' or i == 'i' or i == 'o' or i == 'u' or i == 'A' or i == 'E' or i == 'I' or i == 'O' or i == 'U'):\n",
    "        count += 1\n",
    "        v.append(i)\n",
    "\n",
    "v.sort()  # Just for better readability\n",
    "print(f\"No of vowels in the string is : {count} and the vowels are {set(v)}\")"
   ]
  },
  {
   "cell_type": "code",
   "execution_count": null,
   "id": "99971cca-090d-4dc1-a5a6-746be8f8bd82",
   "metadata": {},
   "outputs": [],
   "source": []
  }
 ],
 "metadata": {
  "kernelspec": {
   "display_name": "Python 3 (ipykernel)",
   "language": "python",
   "name": "python3"
  },
  "language_info": {
   "codemirror_mode": {
    "name": "ipython",
    "version": 3
   },
   "file_extension": ".py",
   "mimetype": "text/x-python",
   "name": "python",
   "nbconvert_exporter": "python",
   "pygments_lexer": "ipython3",
   "version": "3.10.8"
  }
 },
 "nbformat": 4,
 "nbformat_minor": 5
}
